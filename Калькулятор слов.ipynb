{
 "cells": [
  {
   "cell_type": "code",
   "execution_count": 2,
   "metadata": {},
   "outputs": [],
   "source": [
    "all_nums = {\n",
    "    \"один\": 1, \"два\": 2, \"три\": 3, \"четыре\": 4, \"пять\": 5, \"шесть\": 6,\n",
    "    \"семь\": 7, \"восемь\": 8, \"девять\": 9, \"десять\": 10, \"одиннадцать\": 11,\n",
    "    \"двенадцать\": 12, \"тринадцать\": 13, \"четырнадцать\": 14, \"пятнадцать\": 15,\n",
    "    \"шестнадцать\": 16, \"семнадцать\": 17, \"восемнадцать\": 18,\n",
    "    \"девятнадцать\": 19,  \"двадцать\": 20, \"тридцать\": 30, \"сорок\": 40,\n",
    "    \"пятьдесят\": 50, \"шестьдесят\": 60, \"семьдесят\": 70, \"восемьдесят\": 80,\n",
    "    \"девяносто\": 90, \"сто\": 100\n",
    "}\n",
    " \n",
    "def str_to_num(data):\n",
    "    return sum(int(all_nums[i]) for i in data.split())"
   ]
  },
  {
   "cell_type": "code",
   "execution_count": 3,
   "metadata": {},
   "outputs": [
    {
     "name": "stdout",
     "output_type": "stream",
     "text": [
      "пять плюс пять\n",
      "10\n",
      "десять плюс десять\n",
      "20\n",
      "\n"
     ]
    }
   ],
   "source": [
    "calc = input()\n",
    "while calc.count(\" \") == 2:\n",
    "    inp1 , operand, inp2 = calc.split(\" \")\n",
    "    inp1 = str_to_num(inp1)\n",
    "    inp2 = str_to_num(inp2)\n",
    "    if operand == \"плюс\":\n",
    "        print(inp1+inp2)\n",
    "    elif operand == \"минус\":\n",
    "        print(inp1-inp2)\n",
    "    elif operand == \"умножить\":\n",
    "        print(inp1*inp2)\n",
    "    elif operand == \"поделить\":\n",
    "        print(inp1/inp2)\n",
    "    else:\n",
    "        print(\"Вы неправильно ввели числа\")\n",
    "    calc = input()"
   ]
  }
 ],
 "metadata": {
  "kernelspec": {
   "display_name": "Python 3",
   "language": "python",
   "name": "python3"
  },
  "language_info": {
   "codemirror_mode": {
    "name": "ipython",
    "version": 3
   },
   "file_extension": ".py",
   "mimetype": "text/x-python",
   "name": "python",
   "nbconvert_exporter": "python",
   "pygments_lexer": "ipython3",
   "version": "3.8.3"
  }
 },
 "nbformat": 4,
 "nbformat_minor": 4
}
