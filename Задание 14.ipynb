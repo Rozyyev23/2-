{
 "cells": [
  {
   "cell_type": "code",
   "execution_count": 1,
   "metadata": {},
   "outputs": [],
   "source": [
    "import Formula"
   ]
  },
  {
   "cell_type": "code",
   "execution_count": 2,
   "metadata": {},
   "outputs": [
    {
     "name": "stdout",
     "output_type": "stream",
     "text": [
      "Введите значение радиуса:21\n",
      "Введите значение длины дуги сектора круга:1\n"
     ]
    }
   ],
   "source": [
    "sistema = []\n",
    "sistema.append(input('Введите значение радиуса:'))\n",
    "sistema.append(input('Введите значение длины дуги сектора круга:'))\n",
    "with open(\"Form.txt\", \"w\") as outfile:\n",
    "    outfile.write(\"\\n\".join(sistema)) #Записывает вводимые данные в файл вида .txt"
   ]
  },
  {
   "cell_type": "code",
   "execution_count": 5,
   "metadata": {},
   "outputs": [],
   "source": [
    "g = []\n",
    "x = open('Form.txt','r')\n",
    "for i in x:\n",
    "    g.append(int(i.strip('\\n')))"
   ]
  },
  {
   "cell_type": "code",
   "execution_count": 6,
   "metadata": {},
   "outputs": [],
   "source": [
    "'''\n",
    "Формулы из модуля!\n",
    "'''\n",
    "a = Formula.Circle(g[0])\n",
    "b = Formula.Circle_1(g[0])\n",
    "c = Formula.Square_Circle(g[0])\n",
    "d = Formula.Sector(g[1],g[0])"
   ]
  },
  {
   "cell_type": "code",
   "execution_count": 7,
   "metadata": {},
   "outputs": [],
   "source": [
    "f = open('Results.txt','w')\n",
    "f.write('Площадь круга:'+ str(a) + '\\n')\n",
    "f.write('Длина окружности:'+ str(b) + '\\n')\n",
    "f.write('Площадь сектора круга:'+ str(d) + '\\n')\n",
    "f.write('Периметр квадрата, вписанного в окружность:'+ str(c) + '\\n')\n",
    "f.close()"
   ]
  }
 ],
 "metadata": {
  "kernelspec": {
   "display_name": "Python 3",
   "language": "python",
   "name": "python3"
  },
  "language_info": {
   "codemirror_mode": {
    "name": "ipython",
    "version": 3
   },
   "file_extension": ".py",
   "mimetype": "text/x-python",
   "name": "python",
   "nbconvert_exporter": "python",
   "pygments_lexer": "ipython3",
   "version": "3.8.3"
  }
 },
 "nbformat": 4,
 "nbformat_minor": 4
}
