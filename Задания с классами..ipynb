{
 "cells": [
  {
   "cell_type": "markdown",
   "metadata": {},
   "source": [
    "## Класс - отрезок. Методы - расчет середины и длины. Поля класса - координаты начала, конца, середины и длины."
   ]
  },
  {
   "cell_type": "code",
   "execution_count": 66,
   "metadata": {},
   "outputs": [
    {
     "name": "stdout",
     "output_type": "stream",
     "text": [
      "20\n",
      "15\n",
      "{'x': 20, 'y': 15}\n",
      "[5, 17.5]\n"
     ]
    }
   ],
   "source": [
    "class Segment:\n",
    "    def __init__(self, x, y):\n",
    "        self.x = x\n",
    "        self.y = y\n",
    "\n",
    "    def get_list(self):\n",
    "        return [self.x-self.y, (self.x+self.y)/2] #Длина - первое число. Середина - второе.\n",
    "\n",
    "num_class = Segment(int(input()),int(input()))\n",
    "\n",
    "print(num_class.__dict__)\n",
    "print(num_class.get_list())"
   ]
  },
  {
   "cell_type": "markdown",
   "metadata": {},
   "source": [
    "1. Класс Alphabet\n",
    "1.1. Создайте класс Alphabet\n",
    "1.2. Создайте метод __init__(), внутри которого будут определены два динамических свойства: 1) lang - язык и 2) letters - список букв. Начальные значения свойств берутся из входных параметров метода.\n",
    "1.3. Создайте метод print(), который выведет в консоль буквы алфавита\n",
    "1.4. Создайте метод letters_num(), который вернет количество букв в алфавите\n",
    "\n",
    "2. Класс EngAlphabet\n",
    "2.1. Создайте класс EngAlphabet путем наследования от класса Alphabet\n",
    "2.2. Создайте метод __init__(), внутри которого будет вызываться родительский метод __init__(). В качестве параметров ему будут передаваться обозначение языка(например, 'En') и строка, состоящая из всех букв алфавита(можно воспользоваться свойством ascii_uppercase из модуля string).\n",
    "2.3. Добавьте приватное статическое свойство __letters_num, которое будет хранить количество букв в алфавите.\n",
    "2.4. Создайте метод is_en_letter(), который будет принимать букву в качестве параметра и определять, относится ли эта буква к английскому алфавиту.\n",
    "2.5. Переопределите метод letters_num() - пусть в текущем классе классе он будет возвращать значение свойства __letters_num.\n",
    "2.6. Создайте статический метод example(), который будет возвращать пример текста на английском языке.\n",
    "\n",
    "3. Тесты:\n",
    "3.1. Создайте объект класса EngAlphabet\n",
    "3.2. Напечатайте буквы алфавита для этого объекта\n",
    "3.3. Выведите количество букв в алфавите\n",
    "3.4. Проверьте, относится ли буква F к английскому алфавиту\n",
    "3.5. Проверьте, относится ли буква Щ к английскому алфавиту\n",
    "3.6. Выведите пример текста на английском языке"
   ]
  },
  {
   "cell_type": "code",
   "execution_count": 68,
   "metadata": {},
   "outputs": [
    {
     "name": "stdout",
     "output_type": "stream",
     "text": [
      "['A', 'B', 'C', 'D', 'E', 'F', 'G', 'H', 'I', 'J', 'K', 'L', 'M', 'N', 'O', 'P', 'Q', 'R', 'S', 'T', 'U', 'V', 'W', 'X', 'Y', 'Z']\n",
      "26\n",
      "True\n",
      "False\n",
      "HELLO WORLD!\n"
     ]
    }
   ],
   "source": [
    "import string\n",
    "\n",
    "#  Класс Alphabet\n",
    "class Alphabet:   #1.1\n",
    "\n",
    "    def __init__(self, language, letters_str): #1.2\n",
    "        self.lang = language\n",
    "        self.letters = list(letters_str)\n",
    "\n",
    "    def print(self): #1.3\n",
    "        print(self.letters)\n",
    "\n",
    "    def letters_num(self): #1.4\n",
    "        len(self.letters)\n",
    "\n",
    "\n",
    "# Класс EngAlphabet\n",
    "class EngAlphabet(Alphabet): #2.1\n",
    "\n",
    "    def __init__(self):    #2.2\n",
    "        super().__init__('En', string.ascii_uppercase)\n",
    "        \n",
    "    __letters_num = 26     #2.3\n",
    "\n",
    "    def is_en_letter(self, letter):   #2.4\n",
    "        if letter.upper() in self.letters:\n",
    "            return True\n",
    "        return False\n",
    "\n",
    "    def letters_num(self):   #2.5\n",
    "        return EngAlphabet.__letters_num\n",
    "\n",
    "    @staticmethod   #2.6\n",
    "    def example():\n",
    "        print(\"HELLO WORLD!\")\n",
    "\n",
    "\n",
    "# Тесты\n",
    "if __name__ == '__main__':\n",
    "    eng_alphabet = EngAlphabet()         #3.1\n",
    "    eng_alphabet.print()                 #3.2\n",
    "    print(eng_alphabet.letters_num())    #3.3\n",
    "    print(eng_alphabet.is_en_letter('F'))#3.4\n",
    "    print(eng_alphabet.is_en_letter('Щ'))#3.5\n",
    "    EngAlphabet.example()                #3.6"
   ]
  },
  {
   "cell_type": "markdown",
   "metadata": {},
   "source": [
    "# Задание 7"
   ]
  },
  {
   "cell_type": "code",
   "execution_count": 8,
   "metadata": {},
   "outputs": [
    {
     "name": "stdout",
     "output_type": "stream",
     "text": [
      "Введите количество строк: 3\n",
      "Введите все элементы одной строки (через пробел): 3 2 1\n",
      "Введите все элементы одной строки (через пробел): -1 -3 -4\n",
      "Введите все элементы одной строки (через пробел): -6 50 100\n",
      "Ваша матрица : \n",
      "[3, 2, 1]\n",
      "[-1, -3, -4]\n",
      "[-6, 50, 100]\n",
      "Матрица, в которой была удалена строка, содержащая минимальный элемент: \n",
      "[3, 2, 1]\n",
      "[-1, -3, -4]\n"
     ]
    }
   ],
   "source": [
    "number_of_rows = int(input(\"Введите количество строк: \"))\n",
    "matrix = [[int(j) for j in input(\"Введите все элементы одной строки (через пробел): \").split()] for i in range(number_of_rows)]\n",
    "print(\"Ваша матрица : \", *matrix, sep = '\\n')\n",
    "\n",
    "mmin = list(map(min,matrix))#ищем минимум из каждого объекта и конвертируем результат в лист\n",
    "mmin = mmin.index(min(mmin))#получаем индекс\n",
    "del matrix[mmin]#удаляем строку через индекс\n",
    "print(\"Матрица, в которой была удалена строка, содержащая минимальный элемент: \", *matrix, sep = '\\n')"
   ]
  }
 ],
 "metadata": {
  "kernelspec": {
   "display_name": "Python 3",
   "language": "python",
   "name": "python3"
  },
  "language_info": {
   "codemirror_mode": {
    "name": "ipython",
    "version": 3
   },
   "file_extension": ".py",
   "mimetype": "text/x-python",
   "name": "python",
   "nbconvert_exporter": "python",
   "pygments_lexer": "ipython3",
   "version": "3.8.3"
  }
 },
 "nbformat": 4,
 "nbformat_minor": 4
}
