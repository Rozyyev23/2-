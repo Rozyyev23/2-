{
 "cells": [
  {
   "cell_type": "code",
   "execution_count": 3,
   "metadata": {},
   "outputs": [],
   "source": [
    "def mul(a):\n",
    "    def helper(b):\n",
    "        return a * b\n",
    "    return helper"
   ]
  },
  {
   "cell_type": "code",
   "execution_count": 4,
   "metadata": {},
   "outputs": [
    {
     "data": {
      "text/plain": [
       "12"
      ]
     },
     "execution_count": 4,
     "metadata": {},
     "output_type": "execute_result"
    }
   ],
   "source": [
    "mul(4)(3)"
   ]
  },
  {
   "cell_type": "code",
   "execution_count": 5,
   "metadata": {},
   "outputs": [
    {
     "data": {
      "text/plain": [
       "18"
      ]
     },
     "execution_count": 5,
     "metadata": {},
     "output_type": "execute_result"
    }
   ],
   "source": [
    "three_mul = mul(3)\n",
    "three_mul(6)"
   ]
  },
  {
   "cell_type": "code",
   "execution_count": 6,
   "metadata": {},
   "outputs": [],
   "source": [
    "def first_test():\n",
    "    print('Test function 1')\n",
    "def second_test():\n",
    "    print('Test function 2')"
   ]
  },
  {
   "cell_type": "code",
   "execution_count": 7,
   "metadata": {},
   "outputs": [],
   "source": [
    "def simple_decore(fn):\n",
    "    def wrapper():\n",
    "        print('Run function')\n",
    "        fn()\n",
    "        print('Stop function')\n",
    "    return wrapper"
   ]
  },
  {
   "cell_type": "code",
   "execution_count": 8,
   "metadata": {},
   "outputs": [],
   "source": [
    "first_test_wrapped = simple_decore(first_test)\n",
    "second_test_wrapped = simple_decore(second_test)"
   ]
  },
  {
   "cell_type": "code",
   "execution_count": 9,
   "metadata": {},
   "outputs": [
    {
     "name": "stdout",
     "output_type": "stream",
     "text": [
      "Test function 1\n",
      "Test function 2\n"
     ]
    }
   ],
   "source": [
    "first_test()\n",
    "second_test()"
   ]
  },
  {
   "cell_type": "code",
   "execution_count": 10,
   "metadata": {},
   "outputs": [
    {
     "name": "stdout",
     "output_type": "stream",
     "text": [
      "Run function\n",
      "Test function 1\n",
      "Stop function\n"
     ]
    }
   ],
   "source": [
    "first_test_wrapped()"
   ]
  },
  {
   "cell_type": "code",
   "execution_count": 11,
   "metadata": {},
   "outputs": [],
   "source": [
    "@simple_decore\n",
    "def first_test():\n",
    "    print('Test function 1')"
   ]
  },
  {
   "cell_type": "code",
   "execution_count": 12,
   "metadata": {},
   "outputs": [
    {
     "name": "stdout",
     "output_type": "stream",
     "text": [
      "Run function\n",
      "Test function 1\n",
      "Stop function\n"
     ]
    }
   ],
   "source": [
    "first_test()"
   ]
  },
  {
   "cell_type": "code",
   "execution_count": 13,
   "metadata": {},
   "outputs": [],
   "source": [
    "def param_transfer(fn):\n",
    "    def wrapper(x):\n",
    "        print(\"Run function: \"+ str(fn.__name__) + \"(), with param: \" + str(x))\n",
    "        fn(x)\n",
    "    return wrapper"
   ]
  },
  {
   "cell_type": "code",
   "execution_count": 14,
   "metadata": {},
   "outputs": [],
   "source": [
    "@param_transfer\n",
    "def print_sqrt(num):\n",
    "    print(num*2)"
   ]
  },
  {
   "cell_type": "code",
   "execution_count": 15,
   "metadata": {},
   "outputs": [
    {
     "name": "stdout",
     "output_type": "stream",
     "text": [
      "Run function: print_sqrt(), with param: 4\n",
      "8\n"
     ]
    }
   ],
   "source": [
    "print_sqrt(4)"
   ]
  },
  {
   "cell_type": "code",
   "execution_count": 16,
   "metadata": {},
   "outputs": [],
   "source": [
    "def method_decor(fn):\n",
    "    def wrapper(self):\n",
    "        print(\"Run method: \" + str(fn.__name__))\n",
    "        fn(self)\n",
    "    return wrapper"
   ]
  },
  {
   "cell_type": "code",
   "execution_count": 17,
   "metadata": {},
   "outputs": [],
   "source": [
    "class Vector():\n",
    "    def __init__(self, px = 0, py = 0):\n",
    "        self.px = px\n",
    "        self.py = py\n",
    "    @method_decor\n",
    "    def norm(sel):\n",
    "        print((sel.px**2 + sel.py**2)**0.5)"
   ]
  },
  {
   "cell_type": "code",
   "execution_count": 18,
   "metadata": {},
   "outputs": [
    {
     "name": "stdout",
     "output_type": "stream",
     "text": [
      "Run method: norm\n",
      "11.180339887498949\n"
     ]
    }
   ],
   "source": [
    "vc = Vector(px=10, py=5)\n",
    "vc.norm()"
   ]
  },
  {
   "cell_type": "code",
   "execution_count": 19,
   "metadata": {},
   "outputs": [],
   "source": [
    "def decorator(x):\n",
    "    def wrapper(self):\n",
    "        print(x.__name__)\n",
    "        x(self)\n",
    "    return wrapper"
   ]
  },
  {
   "cell_type": "code",
   "execution_count": 20,
   "metadata": {},
   "outputs": [],
   "source": [
    "class Vector():\n",
    "    def __init__(self, x=0, y=0):\n",
    "        self.x = x\n",
    "        self.y = y\n",
    "    @decorator\n",
    "    def Perimeter(self):\n",
    "        print(2*(self.x+self.y))"
   ]
  },
  {
   "cell_type": "code",
   "execution_count": 21,
   "metadata": {},
   "outputs": [
    {
     "name": "stdout",
     "output_type": "stream",
     "text": [
      "Perimeter\n",
      "30\n"
     ]
    }
   ],
   "source": [
    "p = Vector(x=10,y=5)\n",
    "p.Perimeter()"
   ]
  },
  {
   "cell_type": "code",
   "execution_count": null,
   "metadata": {},
   "outputs": [],
   "source": []
  }
 ],
 "metadata": {
  "kernelspec": {
   "display_name": "Python 3",
   "language": "python",
   "name": "python3"
  },
  "language_info": {
   "codemirror_mode": {
    "name": "ipython",
    "version": 3
   },
   "file_extension": ".py",
   "mimetype": "text/x-python",
   "name": "python",
   "nbconvert_exporter": "python",
   "pygments_lexer": "ipython3",
   "version": "3.8.3"
  }
 },
 "nbformat": 4,
 "nbformat_minor": 4
}
