{
 "cells": [
  {
   "cell_type": "markdown",
   "metadata": {},
   "source": [
    "#                                        Розыев Ата, 5 Вариант"
   ]
  },
  {
   "cell_type": "markdown",
   "metadata": {},
   "source": [
    "### 5) Для заданного натурального n подсчитать сумму:"
   ]
  },
  {
   "cell_type": "code",
   "execution_count": 18,
   "metadata": {},
   "outputs": [],
   "source": [
    "import random"
   ]
  },
  {
   "cell_type": "code",
   "execution_count": 7,
   "metadata": {},
   "outputs": [
    {
     "name": "stdout",
     "output_type": "stream",
     "text": [
      "5\n",
      "81\n"
     ]
    }
   ],
   "source": [
    "n=int(input())\n",
    "s = 0\n",
    "for i in range(1,n+1):       \n",
    "    s=(((-1)**(i+1))*i**3)+s\n",
    "print(s)"
   ]
  },
  {
   "cell_type": "markdown",
   "metadata": {},
   "source": [
    "### 7) Дана матрица размера M×N. Удалить строку, содержащую минимальный элемент матрицы."
   ]
  },
  {
   "cell_type": "code",
   "execution_count": 3,
   "metadata": {},
   "outputs": [
    {
     "name": "stdout",
     "output_type": "stream",
     "text": [
      "[[2, 6, -8], [-1, -2, 2], [4, 3, 6], [2, 3, 9]]\n",
      "[[2, 6, -8], [4, 3, 6], [2, 3, 9]]\n"
     ]
    }
   ],
   "source": [
    "matrix = [[2,6,-8],[-1,-2,2],[4,3,6],[2,3,9]]\n",
    "print(matrix)\n",
    "k = matrix.index(min(matrix))\n",
    "del matrix[k]\n",
    "print(matrix)"
   ]
  },
  {
   "cell_type": "code",
   "execution_count": 1,
   "metadata": {},
   "outputs": [
    {
     "name": "stdout",
     "output_type": "stream",
     "text": [
      "3\n",
      "2\n",
      "[[1, 2, 8], [4, 3, 7]]\n"
     ]
    },
    {
     "ename": "IndexError",
     "evalue": "list index out of range",
     "output_type": "error",
     "traceback": [
      "\u001b[1;31m---------------------------------------------------------------------------\u001b[0m",
      "\u001b[1;31mIndexError\u001b[0m                                Traceback (most recent call last)",
      "\u001b[1;32m<ipython-input-1-24c44ed469c3>\u001b[0m in \u001b[0;36m<module>\u001b[1;34m\u001b[0m\n\u001b[0;32m      7\u001b[0m             \u001b[0mprint\u001b[0m\u001b[1;33m(\u001b[0m\u001b[0mm\u001b[0m\u001b[1;33m)\u001b[0m\u001b[1;33m\u001b[0m\u001b[1;33m\u001b[0m\u001b[0m\n\u001b[0;32m      8\u001b[0m     \u001b[1;32mfor\u001b[0m \u001b[0mi\u001b[0m \u001b[1;32min\u001b[0m \u001b[0mrange\u001b[0m\u001b[1;33m(\u001b[0m\u001b[1;36m0\u001b[0m\u001b[1;33m,\u001b[0m\u001b[0mlen\u001b[0m\u001b[1;33m(\u001b[0m\u001b[0mmatrix\u001b[0m\u001b[1;33m)\u001b[0m\u001b[1;33m)\u001b[0m\u001b[1;33m:\u001b[0m\u001b[1;33m\u001b[0m\u001b[1;33m\u001b[0m\u001b[0m\n\u001b[1;32m----> 9\u001b[1;33m         \u001b[1;32mif\u001b[0m \u001b[0mm\u001b[0m \u001b[1;32min\u001b[0m \u001b[0mmatrix\u001b[0m\u001b[1;33m[\u001b[0m\u001b[0mi\u001b[0m\u001b[1;33m]\u001b[0m\u001b[1;33m:\u001b[0m\u001b[1;33m\u001b[0m\u001b[1;33m\u001b[0m\u001b[0m\n\u001b[0m\u001b[0;32m     10\u001b[0m             \u001b[0mmatrix\u001b[0m\u001b[1;33m.\u001b[0m\u001b[0mremove\u001b[0m\u001b[1;33m(\u001b[0m\u001b[0mmatrix\u001b[0m\u001b[1;33m[\u001b[0m\u001b[0mi\u001b[0m\u001b[1;33m]\u001b[0m\u001b[1;33m)\u001b[0m\u001b[1;33m\u001b[0m\u001b[1;33m\u001b[0m\u001b[0m\n\u001b[0;32m     11\u001b[0m             \u001b[0mprint\u001b[0m\u001b[1;33m(\u001b[0m\u001b[0mmatrix\u001b[0m\u001b[1;33m)\u001b[0m\u001b[1;33m\u001b[0m\u001b[1;33m\u001b[0m\u001b[0m\n",
      "\u001b[1;31mIndexError\u001b[0m: list index out of range"
     ]
    }
   ],
   "source": [
    "matrix = [[3,6,2],[1,2,8],[4,3,7]]\n",
    "m = float('inf')\n",
    "for i in range(len(matrix)):\n",
    "    for k in range(len(matrix[i])):\n",
    "        if matrix[i][k]<m:\n",
    "            m = matrix[i][k]\n",
    "            print(m)\n",
    "    for i in range(0,len(matrix)):\n",
    "        if m in matrix[i]:\n",
    "            matrix.remove(matrix[i])\n",
    "            print(matrix)"
   ]
  },
  {
   "cell_type": "markdown",
   "metadata": {},
   "source": [
    "### 8) Дана строка, состоящая из русских слов, разделенных пробелами (одним или несколькими). Вывести строку, содержащую эти же слова, разделенные одним пробелом и расположенные в обратном порядке."
   ]
  },
  {
   "cell_type": "code",
   "execution_count": 61,
   "metadata": {},
   "outputs": [
    {
     "name": "stdout",
     "output_type": "stream",
     "text": [
      "8) Дана строка, состоящая из русских слов, разделенных пробелами (одним или несколькими). Вывести строку, содержащую эти же слова, разделенные одним пробелом и расположенные в обратном порядке.\n",
      "Дана строка состоящая из русских слов разделенных пробелами\n",
      " пробеламиразделенныхсловрусскихизсостоящаястрокаДана\n",
      "--------------------------------------------------------------------------------------\n"
     ]
    }
   ],
   "source": [
    "a = str(input())\n",
    "b = (' ') + ''.join(a.split(' ')[::-1])\n",
    "print(b)"
   ]
  },
  {
   "cell_type": "markdown",
   "metadata": {},
   "source": [
    "### 12) Дан одномерный массив целых чисел. Выбрать из массива все числа больше заданного числа k и упорядочить их по убыванию."
   ]
  },
  {
   "cell_type": "code",
   "execution_count": 35,
   "metadata": {},
   "outputs": [
    {
     "name": "stdout",
     "output_type": "stream",
     "text": [
      "-1 -2 3 5 89 0 10 1 12\n",
      "Введите число из массива:1\n",
      "[89, 12, 10, 5, 3]\n"
     ]
    }
   ],
   "source": [
    "a = [int(i) for i in input().split()]\n",
    "x = int(input('Введите число из массива:'))\n",
    "b = [i for i in a if i>=0]\n",
    "c = sorted(b, reverse=True)\n",
    "e = c.index(x)\n",
    "d = c[0:e]\n",
    "print(d)"
   ]
  },
  {
   "cell_type": "markdown",
   "metadata": {},
   "source": [
    "### 13) Описать процедуру RectPS(x1, y1, x2, y2, P, S) вычисляющую периметр P и площадь S прямоугольника со сторонами, параллельными осям координат, по координатам (x1,y1),(x2,y2) его противоположным вершин(x1,y1,x2,y2 - входные, P и S - выходные параметры вещественного типа). С помощью этой процедуры найти периметры и площади трех прямоугольников с данными противоположными вершинами."
   ]
  },
  {
   "cell_type": "code",
   "execution_count": 12,
   "metadata": {},
   "outputs": [
    {
     "name": "stdout",
     "output_type": "stream",
     "text": [
      "Введите значение стороны прямоугольника: 122\n",
      "Введите значение стороны прямоугольника: 133\n",
      "Введите значение стороны треугольника: 1\n",
      "Введите значение стороны треугольника: 15\n",
      "(478.0, 14278.0)\n"
     ]
    }
   ],
   "source": [
    "import math #импорт библиотеки для решения формул с корнями\n",
    "def RectPS(x1,y1,x2,y2): #Функция для нахождения периметра и площади\n",
    "    P = 2*(math.fabs(x1 - x2)+math.fabs(y1 - y2)) #Формула для нахождения периметра, где .fabs квадратный корень\n",
    "    S = math.fabs(x1 - x2)*math.fabs(y1 - y2) #Формула для нахождения площади\n",
    "    return P,S #Инструкция return возвращает значения Периметра(P) и Площади(S).\n",
    "print(RectPS(int(input(\"Введите значение стороны прямоугольника: \")), \n",
    "             int(input(\"Введите значение стороны прямоугольника: \")),\n",
    "             int(input(\"Введите значение стороны треугольника: \")),\n",
    "             int(input(\"Введите значение стороны треугольника: \"))))"
   ]
  },
  {
   "cell_type": "markdown",
   "metadata": {},
   "source": [
    "## Класс - отрезок. Методы - расчет середины и длины. Поля класса - координаты начала, конца, середины и длины."
   ]
  },
  {
   "cell_type": "code",
   "execution_count": 1,
   "metadata": {},
   "outputs": [],
   "source": [
    "class Segment:\n",
    "    def __init__(self, x, y):\n",
    "        self.x = x\n",
    "        self.y = y\n",
    "        self.mid = self.y - self.x\n",
    "        self.length = (self.x + self.y)/2      "
   ]
  },
  {
   "cell_type": "code",
   "execution_count": 2,
   "metadata": {},
   "outputs": [
    {
     "name": "stdout",
     "output_type": "stream",
     "text": [
      "{'x': 10, 'y': 20, 'mid': 10, 'length': 15.0}\n"
     ]
    }
   ],
   "source": [
    "m = Segment(10,20)\n",
    "print(m.__dict__)"
   ]
  },
  {
   "cell_type": "code",
   "execution_count": null,
   "metadata": {},
   "outputs": [],
   "source": []
  }
 ],
 "metadata": {
  "kernelspec": {
   "display_name": "Python 3",
   "language": "python",
   "name": "python3"
  },
  "language_info": {
   "codemirror_mode": {
    "name": "ipython",
    "version": 3
   },
   "file_extension": ".py",
   "mimetype": "text/x-python",
   "name": "python",
   "nbconvert_exporter": "python",
   "pygments_lexer": "ipython3",
   "version": "3.8.3"
  }
 },
 "nbformat": 4,
 "nbformat_minor": 4
}
