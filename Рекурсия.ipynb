{
 "cells": [
  {
   "cell_type": "markdown",
   "metadata": {},
   "source": [
    "Описать рекурсивную функцию C(m,n) целого типа, находящую число сочетаний из n элементов по m, используя формулу: C(0,n) = C(n,n) = 1, C(m,n) = C(m,n–1) + C(m–1,n–1) при 0 < m< n(m и n—целые параметры; n> 0, 0 <= m<= n). Дано число N и пять различных значений M. Вывести числа C(M,N) вместе с количеством рекурсивных вызовов функции C, потребовавшихся для их нахождения."
   ]
  },
  {
   "cell_type": "code",
   "execution_count": 42,
   "metadata": {},
   "outputs": [
    {
     "name": "stdout",
     "output_type": "stream",
     "text": [
      "Введите m: 2\n",
      "Введите n: 5\n",
      "Число сочетаний из 5 элементов по 2 : 10\n",
      "Число сочетаний из 6 элементов по 2 : 15\n",
      "Число сочетаний из 7 элементов по 2 : 21\n",
      "Число сочетаний из 8 элементов по 2 : 28\n",
      "Число сочетаний из 9 элементов по 2 : 36\n"
     ]
    }
   ],
   "source": [
    "class MyError(Exception):     #Класс, который будет отвечать за то, чтобы все условия задания были верны.\n",
    "    def __init__(self, text):\n",
    "        self.txt = text\n",
    "m = int(input('Введите m: ')) #Ввод элемента m\n",
    "n = int(input('Введите n: ')) #Ввод элемента n\n",
    "try:\n",
    "    n = int(n)\n",
    "    if m > n:\n",
    "        raise MyError(\"Значение m должно быть меньше чем n!!!\") #Программа будет выводить ошибку если m>n\n",
    "    if n < 0:\n",
    "        raise MyError('Значение n должно быть больше 0!!!') #Программа будет выводить ошибку если n<0\n",
    "except ValueError:\n",
    "    print(\"Error type of value!\")\n",
    "try:\n",
    "    m = int(m)\n",
    "    if m < 0:\n",
    "        raise MyError('Значение m должно быть больше 0!!!') #Программа будет выводить ошибку если m<0\n",
    "except ValueError:\n",
    "    print(\"Error type of value!\")\n",
    "\n",
    "    \n",
    "    \n",
    "\n",
    "def C(m,n): #функция C(m,n) целого типа, находящая число сочетаний из n элементов по m\n",
    "    if m == 0 or n==m: #C(0,n) = C(n,n) = 1\n",
    "        return 1\n",
    "    else:\n",
    "        return C(m, n - 1) + C(m - 1, n - 1) #функция будет выполнена если m>0 и m>n\n",
    "print (\"Число сочетаний из\",n,\"элементов по\",m,\":\",C(m,n))\n",
    "print (\"Число сочетаний из\",n+1,\"элементов по\",m,\":\",C(m,n+1))\n",
    "print (\"Число сочетаний из\",n+2,\"элементов по\",m,\":\",C(m,n+2))\n",
    "print (\"Число сочетаний из\",n+3,\"элементов по\",m,\":\",C(m,n+3))\n",
    "print (\"Число сочетаний из\",n+4,\"элементов по\",m,\":\",C(m,n+4))"
   ]
  }
 ],
 "metadata": {
  "kernelspec": {
   "display_name": "Python 3",
   "language": "python",
   "name": "python3"
  },
  "language_info": {
   "codemirror_mode": {
    "name": "ipython",
    "version": 3
   },
   "file_extension": ".py",
   "mimetype": "text/x-python",
   "name": "python",
   "nbconvert_exporter": "python",
   "pygments_lexer": "ipython3",
   "version": "3.8.3"
  }
 },
 "nbformat": 4,
 "nbformat_minor": 4
}
