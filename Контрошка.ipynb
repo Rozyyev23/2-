{
 "cells": [
  {
   "cell_type": "code",
   "execution_count": 23,
   "metadata": {},
   "outputs": [],
   "source": [
    "def make_closure(x,x2,x3):\n",
    "    a = 5\n",
    "    b = 3\n",
    "    c = -4\n",
    "    d = 5\n",
    "    def inner():\n",
    "        return a*x3+b*x2+c*d+d\n",
    "    return inner()"
   ]
  },
  {
   "cell_type": "code",
   "execution_count": 24,
   "metadata": {},
   "outputs": [
    {
     "name": "stdout",
     "output_type": "stream",
     "text": [
      "-21\n"
     ]
    }
   ],
   "source": [
    "print(make_closure(4,3,-3))"
   ]
  },
  {
   "cell_type": "code",
   "execution_count": 72,
   "metadata": {},
   "outputs": [
    {
     "name": "stdout",
     "output_type": "stream",
     "text": [
      "Введите символ privet\n",
      "Введите длину 4\n",
      "\n",
      "privet\n",
      "privetprivet\n",
      "privetprivetprivet\n",
      "privetprivetprivetprivet\n",
      "None\n"
     ]
    }
   ],
   "source": [
    "triangle_char = input('Введите символ ')\n",
    "def make_closure(a):\n",
    "    def inner():\n",
    "        print('')\n",
    "        for j in range (a):\n",
    "            print((triangle_char) * (j + 1))\n",
    "    return inner()\n",
    "print(make_closure(int(input('Введите длину '))))"
   ]
  },
  {
   "cell_type": "code",
   "execution_count": 75,
   "metadata": {},
   "outputs": [
    {
     "data": {
      "text/plain": [
       "[False, False, False, False, False, False, True, False, False, False]"
      ]
     },
     "execution_count": 75,
     "metadata": {},
     "output_type": "execute_result"
    }
   ],
   "source": [
    "words = [\"alpha\",\"omega\",\"up\",\"down\",\"over\",\"under\",\"purple\",\"red\",\"blue\",\"green\"]\n",
    "[5<len(i)<8 for i in words]"
   ]
  },
  {
   "cell_type": "code",
   "execution_count": 104,
   "metadata": {},
   "outputs": [
    {
     "name": "stdout",
     "output_type": "stream",
     "text": [
      "40/2/3\n",
      "45\n",
      "1600\n",
      "100.0\n",
      "240\n",
      "140.0\n"
     ]
    }
   ],
   "source": [
    "n = (input())\n",
    "f = n.split('/')\n",
    "a = int(f[0])\n",
    "b = int(f[1])\n",
    "c = int(f[2])\n",
    "def Perimeter_triangle():\n",
    "    return a + b + c\n",
    "def Square_rect():\n",
    "    return a*a\n",
    "def Half_pentagon():\n",
    "    return (5/2)*a\n",
    "def Half_hexagon():\n",
    "    if (6/2)*a>40:\n",
    "        return 6*a\n",
    "    return (6/2)*a\n",
    "def Half_heptagon():\n",
    "    return (7/2)*a\n",
    "print(Perimeter_triangle())\n",
    "print(Square_rect())\n",
    "print(Half_pentagon())\n",
    "print(Half_hexagon())\n",
    "print(Half_heptagon())"
   ]
  },
  {
   "cell_type": "code",
   "execution_count": 95,
   "metadata": {},
   "outputs": [
    {
     "name": "stdout",
     "output_type": "stream",
     "text": [
      "2/3/4\n",
      "['2', 3, 4]\n"
     ]
    }
   ],
   "source": [
    "n = (input())\n",
    "f = n.split('/')\n",
    "f[1] = int(f[1])\n",
    "f[2] = int(f[2])\n",
    "print(f)"
   ]
  }
 ],
 "metadata": {
  "kernelspec": {
   "display_name": "Python 3",
   "language": "python",
   "name": "python3"
  },
  "language_info": {
   "codemirror_mode": {
    "name": "ipython",
    "version": 3
   },
   "file_extension": ".py",
   "mimetype": "text/x-python",
   "name": "python",
   "nbconvert_exporter": "python",
   "pygments_lexer": "ipython3",
   "version": "3.8.3"
  }
 },
 "nbformat": 4,
 "nbformat_minor": 4
}
