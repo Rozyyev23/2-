{
 "cells": [
  {
   "cell_type": "markdown",
   "metadata": {},
   "source": [
    "### а)Отфильтровать список целых чисел на чётные и нечётные числа с помощью лямбда-функции.\n",
    "### б)Для удаления определённых слов из заданного списка используйте лямбда-функцию.\n",
    "### в)Используя лямбда-функцию, проверить, отсортирован ли указанный список или нет."
   ]
  },
  {
   "cell_type": "code",
   "execution_count": 33,
   "metadata": {},
   "outputs": [
    {
     "name": "stdout",
     "output_type": "stream",
     "text": [
      "Список чисел: [1, 2, 3, 4, 5, 6, 7, 8, 9, 10, 12, 13, 15, 16]\n",
      "Четные числа из списка: [2, 4, 6, 8, 10, 12, 16]\n",
      "Нечетные числа из списка: [1, 3, 5, 7, 9, 13, 15]\n"
     ]
    }
   ],
   "source": [
    "b = [1, 2, 3, 4, 5, 6, 7, 8, 9, 10, 12, 13, 15, 16]\n",
    "print('Список чисел:',b)\n",
    "print('Четные числа из списка:',list(filter(lambda x: x % 2 == 0, b)))\n",
    "print('Нечетные числа из списка:',list(filter(lambda x: x % 2 == 1, b)))"
   ]
  },
  {
   "cell_type": "code",
   "execution_count": 85,
   "metadata": {},
   "outputs": [
    {
     "name": "stdout",
     "output_type": "stream",
     "text": [
      "Введите слова из списка, через запятую, которые желаете удалить:moe\n"
     ]
    },
    {
     "data": {
      "text/plain": [
       "['Eeny', 'meeny', 'miney', '', 'Catch', 'a', 'tiger', 'by', 'his', 'toe']"
      ]
     },
     "execution_count": 85,
     "metadata": {},
     "output_type": "execute_result"
    }
   ],
   "source": [
    "import re\n",
    "abc = ['Eeny', 'meeny', 'miney', 'moe', 'Catch', 'a', 'tiger', 'by', 'his', 'toe']\n",
    "stop = list(input('Введите слова из списка, через запятую, которые желаете удалить:').split(', '))\n",
    "[(lambda x: re.sub(r'|'.join(stop), '', x))(x) for x in abc]"
   ]
  },
  {
   "cell_type": "code",
   "execution_count": 3,
   "metadata": {},
   "outputs": [
    {
     "name": "stdout",
     "output_type": "stream",
     "text": [
      "Введите числа:3, 2, 1, 4\n"
     ]
    },
    {
     "data": {
      "text/plain": [
       "False"
      ]
     },
     "execution_count": 3,
     "metadata": {},
     "output_type": "execute_result"
    }
   ],
   "source": [
    "c = list(input('Введите числа:').split(', '))\n",
    "def is_sorted(lst, key=lambda x: x):\n",
    "    for i, y in enumerate(lst[1:]):\n",
    "        if key(y) < key(lst[i]):\n",
    "            return False\n",
    "    return True\n",
    "is_sorted(c)"
   ]
  },
  {
   "cell_type": "code",
   "execution_count": 4,
   "metadata": {},
   "outputs": [
    {
     "data": {
      "text/plain": [
       "['1', '2', '3', '4']"
      ]
     },
     "execution_count": 4,
     "metadata": {},
     "output_type": "execute_result"
    }
   ],
   "source": [
    "sorted(c,key=lambda x: x)"
   ]
  },
  {
   "cell_type": "code",
   "execution_count": null,
   "metadata": {},
   "outputs": [],
   "source": []
  }
 ],
 "metadata": {
  "kernelspec": {
   "display_name": "Python 3",
   "language": "python",
   "name": "python3"
  },
  "language_info": {
   "codemirror_mode": {
    "name": "ipython",
    "version": 3
   },
   "file_extension": ".py",
   "mimetype": "text/x-python",
   "name": "python",
   "nbconvert_exporter": "python",
   "pygments_lexer": "ipython3",
   "version": "3.8.3"
  }
 },
 "nbformat": 4,
 "nbformat_minor": 4
}
